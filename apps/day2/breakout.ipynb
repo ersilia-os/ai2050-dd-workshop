{
 "cells": [
  {
   "cell_type": "code",
   "execution_count": 18,
   "metadata": {},
   "outputs": [],
   "source": [
    "import os\n",
    "import pandas as pd"
   ]
  },
  {
   "cell_type": "code",
   "execution_count": 42,
   "metadata": {},
   "outputs": [
    {
     "data": {
      "text/plain": [
       "(6599, 4)"
      ]
     },
     "execution_count": 42,
     "metadata": {},
     "output_type": "execute_result"
    }
   ],
   "source": [
    "hits = pd.read_csv(\"data/sf3.csv\")\n",
    "all = pd.read_csv(\"data/drugrepurposinghub.csv\")\n",
    "all = all.drop_duplicates(subset=[\"InChIKey\"])\n",
    "all = all.drop_duplicates(subset=[\"smiles\"])\n",
    "all.shape"
   ]
  },
  {
   "cell_type": "code",
   "execution_count": 38,
   "metadata": {},
   "outputs": [
    {
     "name": "stdout",
     "output_type": "stream",
     "text": [
      "(240, 19)\n",
      "Non standard: CC[Hg]Sc1ccccc1C(O)=O\n",
      "Non standard: O1[n+]2ccccc2S[Zn]11O[n+]2ccccc2S1\n",
      "Non standard: CCCCCCc1ccc(O)cc1O.Nc1c2ccccc2nc2ccccc12\n",
      "Non standard: CC(=O)OCC1=C2N3[C@H](SC1)[C@H](NC(=O)CCC[C@H](N)C(=O)O[Zn]OC2=O)C3=O |t:5|\n",
      "Non standard: CN[C@H]1[C@H](O)[C@@H](O)[C@H](CO)O[C@H]1O[C@H]1[C@H](O[C@@H]2[C@@H](O)[C@H](O)[C@@H](NC(N)=N)[C@H](O)[C@H]2NC(N)=N)O[C@@H](C)[C@]1(O)CO.CN[C@H]1[C@H](O)[C@@H](O)[C@H](CO)O[C@H]1O[C@H]1[C@H](O[C@@H]2[C@@H](O)[C@H](O)[C@@H](NC(N)=N)[C@H](O)[C@H]2NC(N)=N)O[C@@H](C)[C@]1(O)CO\n",
      "Non standard: Oc1ccc(cc1[N+]([O-])=O)[As](O)(O)=O\n",
      "Non standard: O[Hg]c1c(O)c(Br)cc2c(-c3ccccc3C(O)=O)c3cc(Br)c(=O)cc3oc12\n"
     ]
    }
   ],
   "source": [
    "#standardise hits\n",
    "\n",
    "from rdkit import Chem\n",
    "from standardiser import standardise\n",
    "\n",
    "mols = [Chem.MolFromSmiles(s) for s in hits[\"SMILES\"]]\n",
    "hits[\"InChIKey\"] = [Chem.MolToInchiKey(m) for m in mols ]\n",
    "\n",
    "print(hits.shape)\n",
    "smiles = []\n",
    "mols = []\n",
    "for s in hits[\"SMILES\"]:\n",
    "    mol = Chem.MolFromSmiles(s)\n",
    "    if mol is not None:\n",
    "        try:\n",
    "            mol_ = standardise.run(mol)\n",
    "            s_ = Chem.MolToSmiles(mol_)\n",
    "        except:\n",
    "            print(\"Non standard:\", s)\n",
    "            s_ = None\n",
    "    else:\n",
    "        print(\"No rdkit:\" ,s)\n",
    "        s_ = None\n",
    "    smiles += [s_]\n",
    "\n",
    "hits[\"smiles_ok\"] = smiles\n",
    "hits_ok = hits[~hits[\"smiles_ok\"].isna()]"
   ]
  },
  {
   "cell_type": "code",
   "execution_count": 51,
   "metadata": {},
   "outputs": [
    {
     "name": "stdout",
     "output_type": "stream",
     "text": [
      "(6594, 2)\n",
      "(6594, 2)\n",
      "(233, 2)\n",
      "(233, 2)\n",
      "(6362, 2) (6362, 2)\n",
      "(250, 2)\n",
      "(6362, 2) (6158, 2)\n",
      "(250, 2)\n",
      "(6362, 2) (5954, 2)\n",
      "(250, 2)\n",
      "(6362, 2) (5750, 2)\n",
      "(250, 2)\n",
      "(6362, 2) (5546, 2)\n",
      "(250, 2)\n"
     ]
    }
   ],
   "source": [
    "import random\n",
    "\n",
    "random.seed(42)\n",
    "\n",
    "all = all[[\"smiles_ok\", \"InChIKey\"]]\n",
    "print(all.shape)\n",
    "all = all.drop_duplicates(subset=[\"smiles_ok\"])\n",
    "print(all.shape)\n",
    "hits = hits_ok[[\"smiles_ok\", \"InChIKey\"]]\n",
    "print(hits.shape)\n",
    "hits = hits.drop_duplicates(subset=[\"InChIKey\"])\n",
    "print(hits.shape)\n",
    "\n",
    "hits_shuffled = hits.sample(frac=1).reset_index(drop=True)\n",
    "\n",
    "hits_splits = [hits_shuffled.iloc[i:i+46] for i in range(0, 230, 46)]\n",
    "nonhits = all[~all['smiles_ok'].isin(hits['smiles_ok'])]\n",
    "nonhits_used = set()\n",
    "for i, hits_subset in enumerate(hits_splits):\n",
    "    nonhits_nonused = nonhits[~nonhits['InChIKey'].isin(nonhits_used)]\n",
    "    print(nonhits.shape, nonhits_nonused.shape)\n",
    "    nonhits_subset = nonhits_nonused.sample(n=204, random_state=42+i)\n",
    "    combined_df = pd.concat([hits_subset, nonhits_subset])\n",
    "    combined_df = combined_df.sample(frac=1, random_state=42+i).reset_index(drop=True)\n",
    "    combined_df.rename(columns={\"smiles_ok\":\"smiles\"}, inplace=True)\n",
    "    nonhits_used.update(nonhits_subset['InChIKey'])\n",
    "    print(combined_df.shape)\n",
    "    combined_df.to_csv(f'data/drugrepurposinghub_subset{i+1}.csv', index=False)"
   ]
  },
  {
   "cell_type": "code",
   "execution_count": 53,
   "metadata": {},
   "outputs": [
    {
     "name": "stdout",
     "output_type": "stream",
     "text": [
      "1250\n",
      "1250\n"
     ]
    }
   ],
   "source": [
    "# check that datasets are ok \n",
    "smiles = []\n",
    "for i in range(1,6):\n",
    "    df = pd.read_csv(f\"data/drugrepurposinghub_subset{i}.csv\")\n",
    "    smiles.append(df[\"InChIKey\"].tolist())\n",
    "smiles = [s for xs in smiles for s in xs]\n",
    "print(len(smiles))\n",
    "print(len(list(set(smiles))))"
   ]
  }
 ],
 "metadata": {
  "kernelspec": {
   "display_name": "chem",
   "language": "python",
   "name": "python3"
  },
  "language_info": {
   "codemirror_mode": {
    "name": "ipython",
    "version": 3
   },
   "file_extension": ".py",
   "mimetype": "text/x-python",
   "name": "python",
   "nbconvert_exporter": "python",
   "pygments_lexer": "ipython3",
   "version": "3.11.8"
  }
 },
 "nbformat": 4,
 "nbformat_minor": 2
}
