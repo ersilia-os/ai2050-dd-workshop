{
 "cells": [
  {
   "cell_type": "code",
   "execution_count": 5,
   "metadata": {},
   "outputs": [
    {
     "name": "stderr",
     "output_type": "stream",
     "text": [
      "[08:52:06] SMILES Parse Error: syntax error while parsing: InChI=1S/C22H42O6/c1-18-19(23)17-20(24)22(28-18)27-16-14-12-10-8-6-4-2-3-5-7-9-11-13-15-21(25)26/h18-20\n",
      "[08:52:06] SMILES Parse Error: Failed parsing SMILES 'InChI=1S/C22H42O6/c1-18-19(23)17-20(24)22(28-18)27-16-14-12-10-8-6-4-2-3-5-7-9-11-13-15-21(25)26/h18-20' for input: 'InChI=1S/C22H42O6/c1-18-19(23)17-20(24)22(28-18)27-16-14-12-10-8-6-4-2-3-5-7-9-11-13-15-21(25)26/h18-20'\n"
     ]
    }
   ],
   "source": [
    "from rdkit import Chem\n",
    "from standardiser import standardise\n",
    "import csv\n",
    "\n",
    "with open(\"../raw/brice_tchalat_compounds.csv\", \"r\") as f:\n",
    "    reader = csv.reader(f)\n",
    "    next(reader)\n",
    "    smiles_list = []\n",
    "    for row in reader:\n",
    "        if len(row) == 0:\n",
    "            continue\n",
    "        smiles = row[0]\n",
    "        mol = Chem.MolFromSmiles(smiles)\n",
    "        if mol is None:\n",
    "            continue\n",
    "        try:\n",
    "            std_mol = standardise.run(mol)\n",
    "        except:\n",
    "            continue\n",
    "        if std_mol is None:\n",
    "            continue\n",
    "        std_smiles = Chem.MolToSmiles(std_mol)\n",
    "        smiles_list.append(std_smiles)\n",
    "\n",
    "with open(\"../processed/brice_tchalat_compounds_std.csv\", \"w\") as f:\n",
    "    f.write(\"smiles\\n\")\n",
    "    for smiles in smiles_list:\n",
    "        f.write(smiles + \"\\n\")"
   ]
  },
  {
   "cell_type": "code",
   "execution_count": 2,
   "metadata": {},
   "outputs": [
    {
     "data": {
      "text/html": [
       "<div>\n",
       "<style scoped>\n",
       "    .dataframe tbody tr th:only-of-type {\n",
       "        vertical-align: middle;\n",
       "    }\n",
       "\n",
       "    .dataframe tbody tr th {\n",
       "        vertical-align: top;\n",
       "    }\n",
       "\n",
       "    .dataframe thead th {\n",
       "        text-align: right;\n",
       "    }\n",
       "</style>\n",
       "<table border=\"1\" class=\"dataframe\">\n",
       "  <thead>\n",
       "    <tr style=\"text-align: right;\">\n",
       "      <th></th>\n",
       "      <th>smiles</th>\n",
       "    </tr>\n",
       "  </thead>\n",
       "  <tbody>\n",
       "    <tr>\n",
       "      <th>0</th>\n",
       "      <td>N[C@@H](C=O)[C@@H](O)[C@H](O)[C@H](O)CO</td>\n",
       "    </tr>\n",
       "    <tr>\n",
       "      <th>1</th>\n",
       "      <td>CCCC(=O)NC(CCO)C(=O)O</td>\n",
       "    </tr>\n",
       "    <tr>\n",
       "      <th>2</th>\n",
       "      <td>O=CC(O)C(O)C(O)C(O)COC1OC(COC2OC(CO)C(O)C(O)C2...</td>\n",
       "    </tr>\n",
       "    <tr>\n",
       "      <th>3</th>\n",
       "      <td>O=CC(O)C(O)C(O)C(O)COC1OC(COC2OC(CO)C(O)C(O)C2...</td>\n",
       "    </tr>\n",
       "    <tr>\n",
       "      <th>4</th>\n",
       "      <td>COc1ccc(-c2oc3cc(O)c(OC)c(O)c3c(=O)c2OC)cc1</td>\n",
       "    </tr>\n",
       "    <tr>\n",
       "      <th>...</th>\n",
       "      <td>...</td>\n",
       "    </tr>\n",
       "    <tr>\n",
       "      <th>379</th>\n",
       "      <td>O=C(CCCCCCCCCCCCCCCCCCCCCCCCCO)OCC(O)CO</td>\n",
       "    </tr>\n",
       "    <tr>\n",
       "      <th>380</th>\n",
       "      <td>CCCCCCCC/C=C/CCCCCCCCCCCC(N)=O</td>\n",
       "    </tr>\n",
       "    <tr>\n",
       "      <th>381</th>\n",
       "      <td>O=c1cc(-c2ccc(O)c(O)c2)oc2cc(O)c(C3OC(CO)C(O)C...</td>\n",
       "    </tr>\n",
       "    <tr>\n",
       "      <th>382</th>\n",
       "      <td>COc1c(O)ccc2c1C(=O)c1c(O)cc(C)cc1[C@@H]2[C@@H]...</td>\n",
       "    </tr>\n",
       "    <tr>\n",
       "      <th>383</th>\n",
       "      <td>C=C(CCC(C)C1CC=C2C3=C(CCC21C)C1(C)CCC(O)C(C)(O...</td>\n",
       "    </tr>\n",
       "  </tbody>\n",
       "</table>\n",
       "<p>384 rows × 1 columns</p>\n",
       "</div>"
      ],
      "text/plain": [
       "                                                smiles\n",
       "0              N[C@@H](C=O)[C@@H](O)[C@H](O)[C@H](O)CO\n",
       "1                                CCCC(=O)NC(CCO)C(=O)O\n",
       "2    O=CC(O)C(O)C(O)C(O)COC1OC(COC2OC(CO)C(O)C(O)C2...\n",
       "3    O=CC(O)C(O)C(O)C(O)COC1OC(COC2OC(CO)C(O)C(O)C2...\n",
       "4          COc1ccc(-c2oc3cc(O)c(OC)c(O)c3c(=O)c2OC)cc1\n",
       "..                                                 ...\n",
       "379            O=C(CCCCCCCCCCCCCCCCCCCCCCCCCO)OCC(O)CO\n",
       "380                     CCCCCCCC/C=C/CCCCCCCCCCCC(N)=O\n",
       "381  O=c1cc(-c2ccc(O)c(O)c2)oc2cc(O)c(C3OC(CO)C(O)C...\n",
       "382  COc1c(O)ccc2c1C(=O)c1c(O)cc(C)cc1[C@@H]2[C@@H]...\n",
       "383  C=C(CCC(C)C1CC=C2C3=C(CCC21C)C1(C)CCC(O)C(C)(O...\n",
       "\n",
       "[384 rows x 1 columns]"
      ]
     },
     "execution_count": 2,
     "metadata": {},
     "output_type": "execute_result"
    }
   ],
   "source": [
    "import pandas as pd\n",
    "\n",
    "df = pd.read_csv(\"../processed/all_mols.csv\")\n",
    "df"
   ]
  },
  {
   "cell_type": "code",
   "execution_count": null,
   "metadata": {},
   "outputs": [],
   "source": [
    "from rdkit import Chem\n",
    "\n",
    "mols = [Chem.MolFromSmiles(smiles) for smiles in df[\"smiles\"]]"
   ]
  }
 ],
 "metadata": {
  "kernelspec": {
   "display_name": "aiworkshop",
   "language": "python",
   "name": "python3"
  },
  "language_info": {
   "codemirror_mode": {
    "name": "ipython",
    "version": 3
   },
   "file_extension": ".py",
   "mimetype": "text/x-python",
   "name": "python",
   "nbconvert_exporter": "python",
   "pygments_lexer": "ipython3",
   "version": "3.10.14"
  }
 },
 "nbformat": 4,
 "nbformat_minor": 2
}
