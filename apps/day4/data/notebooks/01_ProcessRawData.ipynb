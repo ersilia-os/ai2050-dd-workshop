{
 "cells": [
  {
   "cell_type": "code",
   "execution_count": 5,
   "metadata": {},
   "outputs": [
    {
     "name": "stderr",
     "output_type": "stream",
     "text": [
      "[08:52:06] SMILES Parse Error: syntax error while parsing: InChI=1S/C22H42O6/c1-18-19(23)17-20(24)22(28-18)27-16-14-12-10-8-6-4-2-3-5-7-9-11-13-15-21(25)26/h18-20\n",
      "[08:52:06] SMILES Parse Error: Failed parsing SMILES 'InChI=1S/C22H42O6/c1-18-19(23)17-20(24)22(28-18)27-16-14-12-10-8-6-4-2-3-5-7-9-11-13-15-21(25)26/h18-20' for input: 'InChI=1S/C22H42O6/c1-18-19(23)17-20(24)22(28-18)27-16-14-12-10-8-6-4-2-3-5-7-9-11-13-15-21(25)26/h18-20'\n"
     ]
    }
   ],
   "source": [
    "from rdkit import Chem\n",
    "from standardiser import standardise\n",
    "import csv\n",
    "\n",
    "with open(\"../raw/brice_tchalat_compounds.csv\", \"r\") as f:\n",
    "    reader = csv.reader(f)\n",
    "    next(reader)\n",
    "    smiles_list = []\n",
    "    for row in reader:\n",
    "        if len(row) == 0:\n",
    "            continue\n",
    "        smiles = row[0]\n",
    "        mol = Chem.MolFromSmiles(smiles)\n",
    "        if mol is None:\n",
    "            continue\n",
    "        try:\n",
    "            std_mol = standardise.run(mol)\n",
    "        except:\n",
    "            continue\n",
    "        if std_mol is None:\n",
    "            continue\n",
    "        std_smiles = Chem.MolToSmiles(std_mol)\n",
    "        smiles_list.append(std_smiles)\n",
    "\n",
    "with open(\"../processed/brice_tchalat_compounds_std.csv\", \"w\") as f:\n",
    "    f.write(\"smiles\\n\")\n",
    "    for smiles in smiles_list:\n",
    "        f.write(smiles + \"\\n\")"
   ]
  }
 ],
 "metadata": {
  "kernelspec": {
   "display_name": "aiworkshop",
   "language": "python",
   "name": "python3"
  },
  "language_info": {
   "codemirror_mode": {
    "name": "ipython",
    "version": 3
   },
   "file_extension": ".py",
   "mimetype": "text/x-python",
   "name": "python",
   "nbconvert_exporter": "python",
   "pygments_lexer": "ipython3",
   "version": "3.10.14"
  }
 },
 "nbformat": 4,
 "nbformat_minor": 2
}
