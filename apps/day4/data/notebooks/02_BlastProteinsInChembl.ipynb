{
 "cells": [
  {
   "cell_type": "code",
   "execution_count": 28,
   "metadata": {},
   "outputs": [],
   "source": [
    "import pandas as pd\n",
    "from chembl_webresource_client.new_client import new_client\n",
    "from standardiser import standardise\n",
    "from rdkit import Chem\n",
    "\n",
    "with open(\"../raw/chembl_uniprot_mapping.txt\", \"r\") as f:\n",
    "    l = f.readlines()[1:]\n",
    "    uniprot2chembl = {}\n",
    "    for x in l:\n",
    "        x = x.split(\"\\t\")\n",
    "        uniprot2chembl[x[0]] = x[1]\n",
    "\n",
    "df = pd.read_csv(\"../raw/MEP_Pathway_PfNF54_UniProt.csv\")\n",
    "pfname2uniprot = {}\n",
    "for v in df.values:\n",
    "    pfname2uniprot[v[0]] = v[1]\n"
   ]
  },
  {
   "cell_type": "code",
   "execution_count": 29,
   "metadata": {},
   "outputs": [],
   "source": [
    "def get_blasted_target_chembl_ids(name):\n",
    "    uniprot_ac = pfname2uniprot[name]\n",
    "    df = pd.read_csv(\"../blast/blast_{0}.tsv\".format(uniprot_ac), sep=\"\\t\")\n",
    "    uniprot_acs = df[\"Accession\"].tolist()\n",
    "    chembl_ids = []\n",
    "    for p in [uniprot_ac] + uniprot_acs:\n",
    "        if p in uniprot2chembl:\n",
    "            chembl_ids += [uniprot2chembl[p]]\n",
    "    return chembl_ids\n",
    "    "
   ]
  },
  {
   "cell_type": "code",
   "execution_count": 31,
   "metadata": {},
   "outputs": [],
   "source": [
    "def get_activities_for_target(chembl_id):\n",
    "    activity = new_client.activity\n",
    "    res = activity.filter(target_chembl_id=chembl_id)\n",
    "    R = []\n",
    "    for r in res:\n",
    "        if r[\"pchembl_value\"]:\n",
    "            mol_id = r[\"molecule_chembl_id\"]\n",
    "            pchembl = float(r[\"pchembl_value\"])\n",
    "            canonical_smiles = r[\"canonical_smiles\"]\n",
    "            try:\n",
    "                std_smiles = Chem.MolToSmiles(standardise.run(Chem.MolFromSmiles(canonical_smiles)))\n",
    "            except:\n",
    "                continue\n",
    "            R.append([chembl_id, mol_id, pchembl, std_smiles])\n",
    "    df = pd.DataFrame(R, columns=[\"target_id\", \"molecule_id\", \"pchembl\", \"smiles\"])\n",
    "    return df\n",
    "\n",
    "\n",
    "def dedupe(df):\n",
    "    df = df.sort_values(\"pchembl\", ascending=False).reset_index(drop=True)\n",
    "    df = df.drop_duplicates(subset=\"molecule_id\", keep=\"first\")\n",
    "    return df\n",
    "\n",
    "def get_activities_for_mep_target(name):\n",
    "    chembl_ids = get_blasted_target_chembl_ids(name)\n",
    "    R = []\n",
    "    for chembl_id in chembl_ids:\n",
    "        df = get_activities_for_target(chembl_id)\n",
    "        R.append(df)\n",
    "    if len(R) == 0:\n",
    "        return None\n",
    "    return dedupe(pd.concat(R))\n",
    "\n",
    "\n",
    "def get_all_activities_for_all_mep_targets():\n",
    "    R = []\n",
    "    for name in pfname2uniprot.keys():\n",
    "        df = get_activities_for_mep_target(name)\n",
    "        if df is not None:\n",
    "            R.append(df)\n",
    "    return dedupe(pd.concat(R))\n",
    "\n",
    "\n",
    "df = get_all_activities_for_all_mep_targets()\n",
    "df.to_csv(\"../processed/mep_activities.csv\", index=False)"
   ]
  },
  {
   "cell_type": "markdown",
   "metadata": {},
   "source": [
    "## Test with a very simple model"
   ]
  },
  {
   "cell_type": "code",
   "execution_count": 12,
   "metadata": {},
   "outputs": [
    {
     "name": "stderr",
     "output_type": "stream",
     "text": [
      "[13:40:09] Explicit valence for atom # 0 N, 4, is greater than permitted\n",
      "[13:40:09] Explicit valence for atom # 0 N, 4, is greater than permitted\n",
      "[13:40:09] Explicit valence for atom # 0 N, 4, is greater than permitted\n",
      "[13:40:09] Explicit valence for atom # 13 Cl, 5, is greater than permitted\n",
      "[13:40:09] SMILES Parse Error: syntax error while parsing: OS(O)(O)C1=CC=C(C=C1)C-1=C2\\C=CC(=N2)\\C(=C2/N\\C(\\C=C2)=C(/C2=N/C(/C=C2)=C(\\C2=CC=C\\-1N2)C1=CC=C(C=C1)S(O)(O)O)C1=CC=C(C=C1)S([O-])([O-])[O-])\\C1=CC=C(C=C1)S(O)(O)[O-]\n",
      "[13:40:09] SMILES Parse Error: Failed parsing SMILES 'OS(O)(O)C1=CC=C(C=C1)C-1=C2\\C=CC(=N2)\\C(=C2/N\\C(\\C=C2)=C(/C2=N/C(/C=C2)=C(\\C2=CC=C\\-1N2)C1=CC=C(C=C1)S(O)(O)O)C1=CC=C(C=C1)S([O-])([O-])[O-])\\C1=CC=C(C=C1)S(O)(O)[O-]' for input: 'OS(O)(O)C1=CC=C(C=C1)C-1=C2\\C=CC(=N2)\\C(=C2/N\\C(\\C=C2)=C(/C2=N/C(/C=C2)=C(\\C2=CC=C\\-1N2)C1=CC=C(C=C1)S(O)(O)O)C1=CC=C(C=C1)S([O-])([O-])[O-])\\C1=CC=C(C=C1)S(O)(O)[O-]'\n",
      "[13:40:09] Explicit valence for atom # 19 O, 3, is greater than permitted\n",
      "[13:40:09] Explicit valence for atom # 6 N, 4, is greater than permitted\n",
      "[13:40:09] Explicit valence for atom # 0 O, 3, is greater than permitted\n",
      "[13:40:10] Explicit valence for atom # 3 N, 4, is greater than permitted\n",
      "[13:40:10] Unusual charge on atom 0 number of radical electrons set to zero\n",
      "[13:40:10] Explicit valence for atom # 4 F, 2, is greater than permitted\n",
      "[13:40:10] Explicit valence for atom # 13 Be, 3, is greater than permitted\n",
      "[13:40:10] Explicit valence for atom # 84 N, 4, is greater than permitted\n",
      "[13:40:10] SMILES Parse Error: syntax error while parsing: OC1=CC=CC(=C1)C-1=C2\\CCC(=N2)\\C(=C2/N\\C(\\C=C2)=C(/C2=N/C(/C=C2)=C(\\C2=CC=C\\-1N2)C1=CC(O)=CC=C1)C1=CC(O)=CC=C1)\\C1=CC(O)=CC=C1\n",
      "[13:40:10] SMILES Parse Error: Failed parsing SMILES 'OC1=CC=CC(=C1)C-1=C2\\CCC(=N2)\\C(=C2/N\\C(\\C=C2)=C(/C2=N/C(/C=C2)=C(\\C2=CC=C\\-1N2)C1=CC(O)=CC=C1)C1=CC(O)=CC=C1)\\C1=CC(O)=CC=C1' for input: 'OC1=CC=CC(=C1)C-1=C2\\CCC(=N2)\\C(=C2/N\\C(\\C=C2)=C(/C2=N/C(/C=C2)=C(\\C2=CC=C\\-1N2)C1=CC(O)=CC=C1)C1=CC(O)=CC=C1)\\C1=CC(O)=CC=C1'\n",
      "[13:40:10] Explicit valence for atom # 1 Cl, 4, is greater than permitted\n",
      "[13:40:10] Explicit valence for atom # 0 N, 4, is greater than permitted\n",
      "[13:40:10] Explicit valence for atom # 5 K, 2, is greater than permitted\n",
      "[13:40:11] WARNING: not removing hydrogen atom without neighbors\n",
      "[13:40:11] WARNING: not removing hydrogen atom without neighbors\n",
      "[13:40:11] Explicit valence for atom # 6 N, 4, is greater than permitted\n",
      "[13:40:11] Explicit valence for atom # 1 B, 6, is greater than permitted\n",
      "[13:40:11] Explicit valence for atom # 103 Na, 2, is greater than permitted\n"
     ]
    },
    {
     "name": "stdout",
     "output_type": "stream",
     "text": [
      "11906\n"
     ]
    },
    {
     "name": "stderr",
     "output_type": "stream",
     "text": [
      "[13:40:11] WARNING: not removing hydrogen atom without neighbors\n",
      "[13:40:11] WARNING: not removing hydrogen atom without neighbors\n",
      "[13:40:12] Unusual charge on atom 42 number of radical electrons set to zero\n",
      "[13:40:19] WARNING: not removing hydrogen atom without neighbors\n",
      "[13:40:19] WARNING: not removing hydrogen atom without neighbors\n",
      "[13:40:19] Unusual charge on atom 42 number of radical electrons set to zero\n"
     ]
    },
    {
     "name": "stdout",
     "output_type": "stream",
     "text": [
      "[0. 0. 0. ... 0. 0. 0.]\n",
      "0.96\n"
     ]
    }
   ],
   "source": [
    "from rdkit import Chem\n",
    "import pandas as pd\n",
    "import random\n",
    "from sklearn.ensemble import RandomForestClassifier\n",
    "from rdkit.Chem import AllChem\n",
    "import numpy as np\n",
    "\n",
    "df = pd.read_csv(\"../processed/mep_activities.csv\")\n",
    "\n",
    "pos_smiles = df[df[\"pchembl\"] >= 5][\"smiles\"].tolist()\n",
    "pos_smiles = [Chem.MolToSmiles(Chem.MolFromSmiles(x)) for x in pos_smiles]\n",
    "\n",
    "neg_smiles = pd.read_csv(\"../raw/drugbank_smiles.csv\")[\"Smiles\"].tolist()\n",
    "neg_smiles = [x for x in neg_smiles if x not in pos_smiles]\n",
    "neg_smiles_ = []\n",
    "for smi in neg_smiles:\n",
    "    try:\n",
    "        x = Chem.MolToSmiles(Chem.MolFromSmiles(smi))\n",
    "    except:\n",
    "        continue\n",
    "    neg_smiles_ += [x]\n",
    "print(len(neg_smiles_))\n",
    "neg_smiles = neg_smiles_\n",
    "\n",
    "smiles_list = pos_smiles + neg_smiles\n",
    "y = [1] * len(pos_smiles) + [0] * len(neg_smiles)\n",
    "idxs = [i for i in range(len(y))]\n",
    "random.shuffle(idxs)\n",
    "smiles_list = [smiles_list[i] for i in idxs]\n",
    "y = [y[i] for i in idxs]\n",
    "\n",
    "\n",
    "def fingerprints(smiles_list):\n",
    "\n",
    "    molecules = [Chem.MolFromSmiles(smiles) for smiles in smiles_list]\n",
    "\n",
    "    # Define Morgan fingerprint parameters\n",
    "    radius = 2\n",
    "    nBits = 1024\n",
    "\n",
    "    # Calculate fingerprints\n",
    "    fingerprints = [AllChem.GetMorganFingerprintAsBitVect(mol, radius, nBits=nBits) for mol in molecules]\n",
    "\n",
    "    # Convert fingerprints to numpy array\n",
    "    fingerprint_matrix = np.array([np.array(fingerprint) for fingerprint in fingerprints])\n",
    "\n",
    "    return fingerprint_matrix\n",
    "\n",
    "X = fingerprints(smiles_list)\n",
    "model = RandomForestClassifier()\n",
    "model.fit(X, y)\n",
    "\n",
    "library_smiles = pd.read_csv(\"../processed/all_mols.csv\")[\"smiles\"].tolist()\n",
    "X = fingerprints(library_smiles)\n",
    "y_hat = model.predict_proba(X)[:,1]\n",
    "\n",
    "print(y_hat)\n",
    "print(np.max(y_hat))"
   ]
  },
  {
   "cell_type": "code",
   "execution_count": 23,
   "metadata": {},
   "outputs": [],
   "source": [
    "from rdkit.Chem import AllChem\n",
    "from rdkit.Chem import DataStructs\n",
    "import collections\n",
    "\n",
    "# Define Morgan fingerprint parameters\n",
    "radius = 2\n",
    "nBits = 1024\n",
    "\n",
    "# Calculate fingerprints for input and output molecules\n",
    "input_fingerprints = [AllChem.GetMorganFingerprintAsBitVect(Chem.MolFromSmiles(smi), radius, nBits=nBits) for smi in library_smiles]\n",
    "output_fingerprints = [AllChem.GetMorganFingerprintAsBitVect(Chem.MolFromSmiles(smi), radius, nBits=nBits) for smi in pos_smiles]\n",
    "\n",
    "# Initialize similarity matrix\n",
    "similarity_matrix = np.zeros((len(input_fingerprints), len(output_fingerprints)))\n",
    "\n",
    "# Calculate similarity between each pair of input and output compounds\n",
    "similarity_hits = collections.defaultdict(list)\n",
    "for i, input_fp in enumerate(input_fingerprints):\n",
    "    for j, output_fp in enumerate(output_fingerprints):\n",
    "        similarity = DataStructs.TanimotoSimilarity(input_fp, output_fp)\n",
    "        similarity_hits[library_smiles[i]] += [(pos_smiles[j], similarity)]"
   ]
  },
  {
   "cell_type": "code",
   "execution_count": 24,
   "metadata": {},
   "outputs": [],
   "source": [
    "similarity_hits = dict((k, sorted(v, key=lambda x: -x[1])) for k,v in similarity_hits.items())"
   ]
  },
  {
   "cell_type": "code",
   "execution_count": 27,
   "metadata": {},
   "outputs": [
    {
     "name": "stdout",
     "output_type": "stream",
     "text": [
      "CCN(CC)C(=O)Cc1ccccc1 CN(O)C(=O)CS(=O)(=O)C(c1ccccc1)P(=O)(O)O 0.3111111111111111\n"
     ]
    }
   ],
   "source": [
    "for k,v in similarity_hits.items():\n",
    "    for x in v:\n",
    "        if x[1] > 0.3:\n",
    "            print(k, x[0], x[1])"
   ]
  },
  {
   "cell_type": "code",
   "execution_count": null,
   "metadata": {},
   "outputs": [],
   "source": []
  }
 ],
 "metadata": {
  "kernelspec": {
   "display_name": "base",
   "language": "python",
   "name": "python3"
  },
  "language_info": {
   "codemirror_mode": {
    "name": "ipython",
    "version": 3
   },
   "file_extension": ".py",
   "mimetype": "text/x-python",
   "name": "python",
   "nbconvert_exporter": "python",
   "pygments_lexer": "ipython3",
   "version": "3.7.12"
  }
 },
 "nbformat": 4,
 "nbformat_minor": 2
}
