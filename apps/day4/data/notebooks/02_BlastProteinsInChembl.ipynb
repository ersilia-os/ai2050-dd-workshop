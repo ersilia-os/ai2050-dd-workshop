{
 "cells": [
  {
   "cell_type": "code",
   "execution_count": 37,
   "metadata": {},
   "outputs": [],
   "source": [
    "import pandas as pd\n",
    "from chembl_webresource_client.new_client import new_client\n",
    "from standardiser import standardise\n",
    "from rdkit import Chem\n",
    "\n",
    "with open(\"../raw/chembl_uniprot_mapping.txt\", \"r\") as f:\n",
    "    l = f.readlines()[1:]\n",
    "    uniprot2chembl = {}\n",
    "    for x in l:\n",
    "        x = x.split(\"\\t\")\n",
    "        uniprot2chembl[x[0]] = x[1]\n",
    "\n",
    "df = pd.read_csv(\"../raw/MEP_Pathway_PfNF54_UniProt.csv\")\n",
    "pfname2uniprot = {}\n",
    "for v in df.values:\n",
    "    pfname2uniprot[v[0]] = v[1]\n"
   ]
  },
  {
   "cell_type": "code",
   "execution_count": 38,
   "metadata": {},
   "outputs": [],
   "source": [
    "def get_blasted_target_chembl_ids(name):\n",
    "    uniprot_ac = pfname2uniprot[name]\n",
    "    df = pd.read_csv(\"../blast/blast_{0}.tsv\".format(uniprot_ac), sep=\"\\t\")\n",
    "    uniprot_acs = df[\"Accession\"].tolist()\n",
    "    chembl_ids = []\n",
    "    for p in [uniprot_ac] + uniprot_acs:\n",
    "        if p in uniprot2chembl:\n",
    "            chembl_ids += [uniprot2chembl[p]]\n",
    "    return chembl_ids\n",
    "    "
   ]
  },
  {
   "cell_type": "code",
   "execution_count": 43,
   "metadata": {},
   "outputs": [],
   "source": [
    "def get_activities_for_target(chembl_id):\n",
    "    activity = new_client.activity\n",
    "    res = activity.filter(target_chembl_id=chembl_id)\n",
    "    R = []\n",
    "    for r in res:\n",
    "        if r[\"pchembl_value\"]:\n",
    "            mol_id = r[\"molecule_chembl_id\"]\n",
    "            pchembl = float(r[\"pchembl_value\"])\n",
    "            canonical_smiles = r[\"canonical_smiles\"]\n",
    "            try:\n",
    "                std_smiles = Chem.MolToSmiles(standardise.run(Chem.MolFromSmiles(canonical_smiles)))\n",
    "            except:\n",
    "                continue\n",
    "            R.append([chembl_id, mol_id, pchembl, std_smiles])\n",
    "    df = pd.DataFrame(R, columns=[\"target_id\", \"molecule_id\", \"pchembl\", \"smiles\"])\n",
    "    return df\n",
    "\n",
    "\n",
    "def dedupe(df):\n",
    "    df = df.sort_values(\"pchembl\", ascending=False).reset_index(drop=True)\n",
    "    df = df.drop_duplicates(subset=\"molecule_id\", keep=\"first\")\n",
    "    return df\n",
    "\n",
    "def get_activities_for_mep_target(name):\n",
    "    chembl_ids = get_blasted_target_chembl_ids(name)\n",
    "    R = []\n",
    "    for chembl_id in chembl_ids:\n",
    "        df = get_activities_for_target(chembl_id)\n",
    "        R.append(df)\n",
    "    if len(R) == 0:\n",
    "        return None\n",
    "    return dedupe(pd.concat(R))\n",
    "\n",
    "\n",
    "def get_all_activities_for_all_mep_targets():\n",
    "    R = []\n",
    "    for name in pfname2uniprot.keys():\n",
    "        df = get_activities_for_mep_target(name)\n",
    "        if df is not None:\n",
    "            R.append(df)\n",
    "    return dedupe(pd.concat(R))\n",
    "\n",
    "\n",
    "df = get_all_activities_for_all_mep_targets()"
   ]
  },
  {
   "cell_type": "markdown",
   "metadata": {},
   "source": [
    "## Test with LazyQSAR"
   ]
  },
  {
   "cell_type": "code",
   "execution_count": null,
   "metadata": {},
   "outputs": [],
   "source": [
    "pos_smiles = df[df[\"pchembl\"] >= 5][\"smiles\"].tolist()\n",
    "neg_smiles = pd.read_csv(\"../raw/drugbank_smiles.csv\")[\"Smiles\"].tolist()\n",
    "neg_smiles = [x for x in neg_smiles if x not in pos_smiles]\n",
    "smiles_list = pos_smiles + neg_smiles\n",
    "y = [1] * len(pos_smiles) + [0] * len(neg_smiles)"
   ]
  },
  {
   "cell_type": "code",
   "execution_count": 51,
   "metadata": {},
   "outputs": [
    {
     "ename": "ImportError",
     "evalue": "dlopen(/Users/mduranfrigola/miniconda3/envs/aiworkshop/lib/python3.10/site-packages/rdkit/ML/InfoTheory/rdInfoTheory.so, 0x0002): Symbol not found: __ZN5boost10filesystem11path_traits7convertEPKwS3_RNSt3__112basic_stringIcNS4_11char_traitsIcEENS4_9allocatorIcEEEERKNS4_7codecvtIwc11__mbstate_tEE\n  Referenced from: <4223EC42-E0FE-3E48-BEA3-6EBBBA894BBE> /Users/mduranfrigola/miniconda3/envs/aiworkshop/lib/python3.10/site-packages/rdkit/.dylibs/libboost_log_setup.dylib\n  Expected in:     <632DB74F-44E3-3B0D-92F6-383B5A3A727A> /Users/mduranfrigola/miniconda3/envs/aiworkshop/lib/python3.10/site-packages/rdkit/.dylibs/libboost_filesystem.dylib",
     "output_type": "error",
     "traceback": [
      "\u001b[0;31m---------------------------------------------------------------------------\u001b[0m",
      "\u001b[0;31mImportError\u001b[0m                               Traceback (most recent call last)",
      "Cell \u001b[0;32mIn[51], line 1\u001b[0m\n\u001b[0;32m----> 1\u001b[0m \u001b[38;5;28;01mimport\u001b[39;00m \u001b[38;5;21;01mlazyqsar\u001b[39;00m \u001b[38;5;28;01mas\u001b[39;00m \u001b[38;5;21;01mlq\u001b[39;00m\n\u001b[1;32m      3\u001b[0m model \u001b[38;5;241m=\u001b[39m lq\u001b[38;5;241m.\u001b[39mMorganBinaryClassifier()\n",
      "File \u001b[0;32m~/miniconda3/envs/aiworkshop/lib/python3.10/site-packages/lazyqsar/__init__.py:1\u001b[0m\n\u001b[0;32m----> 1\u001b[0m \u001b[38;5;28;01mfrom\u001b[39;00m \u001b[38;5;21;01m.\u001b[39;00m\u001b[38;5;21;01mbinary\u001b[39;00m\u001b[38;5;21;01m.\u001b[39;00m\u001b[38;5;21;01mmorgan\u001b[39;00m \u001b[38;5;28;01mimport\u001b[39;00m MorganBinaryClassifier\n\u001b[1;32m      2\u001b[0m \u001b[38;5;28;01mfrom\u001b[39;00m \u001b[38;5;21;01m.\u001b[39;00m\u001b[38;5;21;01mbinary\u001b[39;00m\u001b[38;5;21;01m.\u001b[39;00m\u001b[38;5;21;01mmordred\u001b[39;00m \u001b[38;5;28;01mimport\u001b[39;00m MordredBinaryClassifier\n\u001b[1;32m      3\u001b[0m \u001b[38;5;28;01mfrom\u001b[39;00m \u001b[38;5;21;01m.\u001b[39;00m\u001b[38;5;21;01mbinary\u001b[39;00m\u001b[38;5;21;01m.\u001b[39;00m\u001b[38;5;21;01mclassic\u001b[39;00m \u001b[38;5;28;01mimport\u001b[39;00m ClassicBinaryClassifier\n",
      "File \u001b[0;32m~/miniconda3/envs/aiworkshop/lib/python3.10/site-packages/lazyqsar/binary/morgan.py:10\u001b[0m\n\u001b[1;32m      7\u001b[0m \u001b[38;5;28;01mimport\u001b[39;00m \u001b[38;5;21;01mnumpy\u001b[39;00m \u001b[38;5;28;01mas\u001b[39;00m \u001b[38;5;21;01mnp\u001b[39;00m\n\u001b[1;32m      8\u001b[0m \u001b[38;5;28;01mimport\u001b[39;00m \u001b[38;5;21;01mjoblib\u001b[39;00m\n\u001b[0;32m---> 10\u001b[0m \u001b[38;5;28;01mfrom\u001b[39;00m \u001b[38;5;21;01m.\u001b[39;00m\u001b[38;5;21;01m.\u001b[39;00m\u001b[38;5;21;01mdescriptors\u001b[39;00m\u001b[38;5;21;01m.\u001b[39;00m\u001b[38;5;21;01mdescriptors\u001b[39;00m \u001b[38;5;28;01mimport\u001b[39;00m MorganDescriptor\n\u001b[1;32m     13\u001b[0m \u001b[38;5;28;01mclass\u001b[39;00m \u001b[38;5;21;01mMorganBinaryClassifier\u001b[39;00m(\u001b[38;5;28mobject\u001b[39m):\n\u001b[1;32m     15\u001b[0m     \u001b[38;5;28;01mdef\u001b[39;00m \u001b[38;5;21m__init__\u001b[39m(\u001b[38;5;28mself\u001b[39m, automl\u001b[38;5;241m=\u001b[39m\u001b[38;5;28;01mTrue\u001b[39;00m, reduced\u001b[38;5;241m=\u001b[39m\u001b[38;5;28;01mFalse\u001b[39;00m, time_budget_sec\u001b[38;5;241m=\u001b[39m\u001b[38;5;241m20\u001b[39m, estimator_list\u001b[38;5;241m=\u001b[39m\u001b[38;5;28;01mNone\u001b[39;00m):\n",
      "File \u001b[0;32m~/miniconda3/envs/aiworkshop/lib/python3.10/site-packages/lazyqsar/descriptors/descriptors.py:14\u001b[0m\n\u001b[1;32m     11\u001b[0m \u001b[38;5;28;01mfrom\u001b[39;00m \u001b[38;5;21;01mrdkit\u001b[39;00m\u001b[38;5;21;01m.\u001b[39;00m\u001b[38;5;21;01mChem\u001b[39;00m \u001b[38;5;28;01mimport\u001b[39;00m MACCSkeys\n\u001b[1;32m     12\u001b[0m \u001b[38;5;28;01mfrom\u001b[39;00m \u001b[38;5;21;01mrdkit\u001b[39;00m\u001b[38;5;21;01m.\u001b[39;00m\u001b[38;5;21;01mChem\u001b[39;00m \u001b[38;5;28;01mimport\u001b[39;00m MolFromSmarts\n\u001b[0;32m---> 14\u001b[0m \u001b[38;5;28;01mfrom\u001b[39;00m \u001b[38;5;21;01mmordred\u001b[39;00m \u001b[38;5;28;01mimport\u001b[39;00m Calculator, descriptors\n\u001b[1;32m     16\u001b[0m \u001b[38;5;28;01mfrom\u001b[39;00m \u001b[38;5;21;01meosce\u001b[39;00m\u001b[38;5;21;01m.\u001b[39;00m\u001b[38;5;21;01mmodels\u001b[39;00m \u001b[38;5;28;01mimport\u001b[39;00m ErsiliaCompoundEmbeddings\n\u001b[1;32m     18\u001b[0m \u001b[38;5;66;03m# VARIABLES\u001b[39;00m\n",
      "File \u001b[0;32m~/miniconda3/envs/aiworkshop/lib/python3.10/site-packages/mordred/descriptors/__init__.py:42\u001b[0m\n\u001b[1;32m     38\u001b[0m         \u001b[38;5;28mglobals\u001b[39m()[\u001b[38;5;124m\"\u001b[39m\u001b[38;5;124m__all__\u001b[39m\u001b[38;5;124m\"\u001b[39m] \u001b[38;5;241m=\u001b[39m \u001b[38;5;28mtuple\u001b[39m(names)\n\u001b[1;32m     39\u001b[0m         \u001b[38;5;28mglobals\u001b[39m()[\u001b[38;5;124m\"\u001b[39m\u001b[38;5;124mall\u001b[39m\u001b[38;5;124m\"\u001b[39m] \u001b[38;5;241m=\u001b[39m \u001b[38;5;28mtuple\u001b[39m(values)\n\u001b[0;32m---> 42\u001b[0m \u001b[43m_import_all_descriptors\u001b[49m\u001b[43m(\u001b[49m\u001b[43m)\u001b[49m\n",
      "File \u001b[0;32m~/miniconda3/envs/aiworkshop/lib/python3.10/site-packages/mordred/descriptors/__init__.py:31\u001b[0m, in \u001b[0;36m_import_all_descriptors\u001b[0;34m()\u001b[0m\n\u001b[1;32m     28\u001b[0m \u001b[38;5;28;01mif\u001b[39;00m name[:\u001b[38;5;241m1\u001b[39m] \u001b[38;5;241m==\u001b[39m \u001b[38;5;124m\"\u001b[39m\u001b[38;5;124m_\u001b[39m\u001b[38;5;124m\"\u001b[39m \u001b[38;5;129;01mor\u001b[39;00m ext \u001b[38;5;241m!=\u001b[39m \u001b[38;5;124m\"\u001b[39m\u001b[38;5;124m.py\u001b[39m\u001b[38;5;124m\"\u001b[39m:\n\u001b[1;32m     29\u001b[0m     \u001b[38;5;28;01mcontinue\u001b[39;00m\n\u001b[0;32m---> 31\u001b[0m mdl \u001b[38;5;241m=\u001b[39m \u001b[43mimport_module\u001b[49m\u001b[43m(\u001b[49m\u001b[38;5;124;43m\"\u001b[39;49m\u001b[38;5;124;43m..\u001b[39;49m\u001b[38;5;124;43m\"\u001b[39;49m\u001b[43m \u001b[49m\u001b[38;5;241;43m+\u001b[39;49m\u001b[43m \u001b[49m\u001b[43mname\u001b[49m\u001b[43m,\u001b[49m\u001b[43m \u001b[49m\u001b[43m__package__\u001b[49m\u001b[43m)\u001b[49m\n\u001b[1;32m     33\u001b[0m \u001b[38;5;28;01mif\u001b[39;00m \u001b[38;5;28many\u001b[39m(v \u001b[38;5;28;01mfor\u001b[39;00m v \u001b[38;5;129;01min\u001b[39;00m mdl\u001b[38;5;241m.\u001b[39m\u001b[38;5;18m__dict__\u001b[39m\u001b[38;5;241m.\u001b[39mvalues() \u001b[38;5;28;01mif\u001b[39;00m is_descriptor_class(v)):\n\u001b[1;32m     34\u001b[0m     names\u001b[38;5;241m.\u001b[39mappend(name)\n",
      "File \u001b[0;32m~/miniconda3/envs/aiworkshop/lib/python3.10/importlib/__init__.py:126\u001b[0m, in \u001b[0;36mimport_module\u001b[0;34m(name, package)\u001b[0m\n\u001b[1;32m    124\u001b[0m             \u001b[38;5;28;01mbreak\u001b[39;00m\n\u001b[1;32m    125\u001b[0m         level \u001b[38;5;241m+\u001b[39m\u001b[38;5;241m=\u001b[39m \u001b[38;5;241m1\u001b[39m\n\u001b[0;32m--> 126\u001b[0m \u001b[38;5;28;01mreturn\u001b[39;00m \u001b[43m_bootstrap\u001b[49m\u001b[38;5;241;43m.\u001b[39;49m\u001b[43m_gcd_import\u001b[49m\u001b[43m(\u001b[49m\u001b[43mname\u001b[49m\u001b[43m[\u001b[49m\u001b[43mlevel\u001b[49m\u001b[43m:\u001b[49m\u001b[43m]\u001b[49m\u001b[43m,\u001b[49m\u001b[43m \u001b[49m\u001b[43mpackage\u001b[49m\u001b[43m,\u001b[49m\u001b[43m \u001b[49m\u001b[43mlevel\u001b[49m\u001b[43m)\u001b[49m\n",
      "File \u001b[0;32m~/miniconda3/envs/aiworkshop/lib/python3.10/site-packages/mordred/BalabanJ.py:1\u001b[0m\n\u001b[0;32m----> 1\u001b[0m \u001b[38;5;28;01mimport\u001b[39;00m \u001b[38;5;21;01mrdkit\u001b[39;00m\u001b[38;5;21;01m.\u001b[39;00m\u001b[38;5;21;01mChem\u001b[39;00m\u001b[38;5;21;01m.\u001b[39;00m\u001b[38;5;21;01mGraphDescriptors\u001b[39;00m \u001b[38;5;28;01mas\u001b[39;00m \u001b[38;5;21;01mRDKit\u001b[39;00m\n\u001b[1;32m      3\u001b[0m \u001b[38;5;28;01mfrom\u001b[39;00m \u001b[38;5;21;01m.\u001b[39;00m\u001b[38;5;21;01m_base\u001b[39;00m \u001b[38;5;28;01mimport\u001b[39;00m Descriptor\n\u001b[1;32m      4\u001b[0m \u001b[38;5;28;01mfrom\u001b[39;00m \u001b[38;5;21;01m.\u001b[39;00m\u001b[38;5;21;01m_graph_matrix\u001b[39;00m \u001b[38;5;28;01mimport\u001b[39;00m DistanceMatrix\n",
      "File \u001b[0;32m~/miniconda3/envs/aiworkshop/lib/python3.10/site-packages/rdkit/Chem/GraphDescriptors.py:23\u001b[0m\n\u001b[1;32m     21\u001b[0m \u001b[38;5;28;01mfrom\u001b[39;00m \u001b[38;5;21;01mrdkit\u001b[39;00m \u001b[38;5;28;01mimport\u001b[39;00m Chem\n\u001b[1;32m     22\u001b[0m \u001b[38;5;28;01mfrom\u001b[39;00m \u001b[38;5;21;01mrdkit\u001b[39;00m\u001b[38;5;21;01m.\u001b[39;00m\u001b[38;5;21;01mChem\u001b[39;00m \u001b[38;5;28;01mimport\u001b[39;00m Graphs, rdchem, rdMolDescriptors\n\u001b[0;32m---> 23\u001b[0m \u001b[38;5;28;01mfrom\u001b[39;00m \u001b[38;5;21;01mrdkit\u001b[39;00m\u001b[38;5;21;01m.\u001b[39;00m\u001b[38;5;21;01mML\u001b[39;00m\u001b[38;5;21;01m.\u001b[39;00m\u001b[38;5;21;01mInfoTheory\u001b[39;00m \u001b[38;5;28;01mimport\u001b[39;00m entropy\n\u001b[1;32m     25\u001b[0m ptable \u001b[38;5;241m=\u001b[39m Chem\u001b[38;5;241m.\u001b[39mGetPeriodicTable()\n\u001b[1;32m     27\u001b[0m _log2val \u001b[38;5;241m=\u001b[39m math\u001b[38;5;241m.\u001b[39mlog(\u001b[38;5;241m2\u001b[39m)\n",
      "File \u001b[0;32m~/miniconda3/envs/aiworkshop/lib/python3.10/site-packages/rdkit/ML/InfoTheory/__init__.py:4\u001b[0m\n\u001b[1;32m      1\u001b[0m \u001b[38;5;124;03m\"\"\" Information Theory functionality\u001b[39;00m\n\u001b[1;32m      2\u001b[0m \n\u001b[1;32m      3\u001b[0m \u001b[38;5;124;03m\"\"\"\u001b[39;00m\n\u001b[0;32m----> 4\u001b[0m \u001b[38;5;28;01mfrom\u001b[39;00m \u001b[38;5;21;01mrdkit\u001b[39;00m\u001b[38;5;21;01m.\u001b[39;00m\u001b[38;5;21;01mML\u001b[39;00m\u001b[38;5;21;01m.\u001b[39;00m\u001b[38;5;21;01mInfoTheory\u001b[39;00m\u001b[38;5;21;01m.\u001b[39;00m\u001b[38;5;21;01mrdInfoTheory\u001b[39;00m \u001b[38;5;28;01mimport\u001b[39;00m \u001b[38;5;241m*\u001b[39m\n",
      "\u001b[0;31mImportError\u001b[0m: dlopen(/Users/mduranfrigola/miniconda3/envs/aiworkshop/lib/python3.10/site-packages/rdkit/ML/InfoTheory/rdInfoTheory.so, 0x0002): Symbol not found: __ZN5boost10filesystem11path_traits7convertEPKwS3_RNSt3__112basic_stringIcNS4_11char_traitsIcEENS4_9allocatorIcEEEERKNS4_7codecvtIwc11__mbstate_tEE\n  Referenced from: <4223EC42-E0FE-3E48-BEA3-6EBBBA894BBE> /Users/mduranfrigola/miniconda3/envs/aiworkshop/lib/python3.10/site-packages/rdkit/.dylibs/libboost_log_setup.dylib\n  Expected in:     <632DB74F-44E3-3B0D-92F6-383B5A3A727A> /Users/mduranfrigola/miniconda3/envs/aiworkshop/lib/python3.10/site-packages/rdkit/.dylibs/libboost_filesystem.dylib"
     ]
    }
   ],
   "source": [
    "import lazyqsar as lq\n",
    "\n",
    "model = lq.MorganBinaryClassifier()"
   ]
  }
 ],
 "metadata": {
  "kernelspec": {
   "display_name": "base",
   "language": "python",
   "name": "python3"
  },
  "language_info": {
   "codemirror_mode": {
    "name": "ipython",
    "version": 3
   },
   "file_extension": ".py",
   "mimetype": "text/x-python",
   "name": "python",
   "nbconvert_exporter": "python",
   "pygments_lexer": "ipython3",
   "version": "3.10.14"
  }
 },
 "nbformat": 4,
 "nbformat_minor": 2
}
