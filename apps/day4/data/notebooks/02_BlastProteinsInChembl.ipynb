{
 "cells": [
  {
   "cell_type": "code",
   "execution_count": 10,
   "metadata": {},
   "outputs": [],
   "source": [
    "import pandas as pd\n",
    "\n",
    "with open(\"../raw/chembl_uniprot_mapping.txt\", \"r\") as f:\n",
    "    l = f.readlines()[1:]\n",
    "    uniprot2chembl = {}\n",
    "    for x in l:\n",
    "        x = x.split(\"\\t\")\n",
    "        uniprot2chembl[x[0]] = x[1]\n",
    "\n",
    "df = pd.read_csv(\"../raw/MEP_Pathway_PfNF54_UniProt.csv\")\n",
    "pfname2uniprot = {}\n",
    "for v in df.values:\n",
    "    pfname2uniprot[v[0]] = v[1]\n"
   ]
  },
  {
   "cell_type": "code",
   "execution_count": 19,
   "metadata": {},
   "outputs": [
    {
     "data": {
      "text/plain": [
       "[]"
      ]
     },
     "execution_count": 19,
     "metadata": {},
     "output_type": "execute_result"
    }
   ],
   "source": [
    "def get_blasted_target_chembl_ids(name):\n",
    "    uniprot_ac = pfname2uniprot[name]\n",
    "    df = pd.read_csv(\"../blast/blast_{0}.tsv\".format(uniprot_ac), sep=\"\\t\")\n",
    "    uniprot_acs = df[\"Accession\"].tolist()\n",
    "    chembl_ids = []\n",
    "    for p in [uniprot_ac] + uniprot_acs:\n",
    "        if p in uniprot2chembl:\n",
    "            chembl_ids += [uniprot2chembl[p]]\n",
    "    return chembl_ids\n",
    "\n",
    "get_blasted_target_chembl_ids(\"isph\")\n",
    "    "
   ]
  },
  {
   "cell_type": "code",
   "execution_count": null,
   "metadata": {},
   "outputs": [],
   "source": []
  }
 ],
 "metadata": {
  "kernelspec": {
   "display_name": "base",
   "language": "python",
   "name": "python3"
  },
  "language_info": {
   "codemirror_mode": {
    "name": "ipython",
    "version": 3
   },
   "file_extension": ".py",
   "mimetype": "text/x-python",
   "name": "python",
   "nbconvert_exporter": "python",
   "pygments_lexer": "ipython3",
   "version": "3.9.12"
  }
 },
 "nbformat": 4,
 "nbformat_minor": 2
}
