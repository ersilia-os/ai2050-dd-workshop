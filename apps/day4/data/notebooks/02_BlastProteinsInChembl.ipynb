{
 "cells": [
  {
   "cell_type": "code",
   "execution_count": 10,
   "metadata": {},
   "outputs": [],
   "source": [
    "import pandas as pd\n",
    "\n",
    "with open(\"../raw/chembl_uniprot_mapping.txt\", \"r\") as f:\n",
    "    l = f.readlines()[1:]\n",
    "    uniprot2chembl = {}\n",
    "    for x in l:\n",
    "        x = x.split(\"\\t\")\n",
    "        uniprot2chembl[x[0]] = x[1]\n",
    "\n",
    "df = pd.read_csv(\"../raw/MEP_Pathway_PfNF54_UniProt.csv\")\n",
    "pfname2uniprot = {}\n",
    "for v in df.values:\n",
    "    pfname2uniprot[v[0]] = v[1]\n"
   ]
  },
  {
   "cell_type": "code",
   "execution_count": 12,
   "metadata": {},
   "outputs": [
    {
     "name": "stdout",
     "output_type": "stream",
     "text": [
      "     Hit  DB   Accession                                        Description  \\\n",
      "0      1  TR      W7KAR5  1-deoxy-D-xylulose-5-phosphate synthase OS=Pla...   \n",
      "1      2  TR      Q8IDW0  1-deoxy-D-xylulose-5-phosphate synthase OS=Pla...   \n",
      "2      3  TR  A0A024W2C7  1-deoxy-D-xylulose-5-phosphate synthase OS=Pla...   \n",
      "3      4  TR      W7JIF8  1-deoxy-D-xylulose-5-phosphate synthase OS=Pla...   \n",
      "4      5  TR  A0A024WJR1  1-deoxy-D-xylulose-5-phosphate synthase OS=Pla...   \n",
      "..   ...  ..         ...                                                ...   \n",
      "245  246  TR  A0A238K5C2  1-deoxy-D-xylulose-5-phosphate synthase OS=Pel...   \n",
      "246  247  TR  A0A0N0D3Q0  1-deoxy-D-xylulose-5-phosphate synthase OS=Can...   \n",
      "247  248  TR  A0A9X2RFY5  1-deoxy-D-xylulose-5-phosphate synthase OS=Gra...   \n",
      "248  249  TR      N9WGI2  1-deoxy-D-xylulose-5-phosphate synthase OS=Clo...   \n",
      "249  250  TR  A0A371QTA5  1-deoxy-D-xylulose-5-phosphate synthase OS=Rho...   \n",
      "\n",
      "                                     Organism  Length  Score(Bits)  \\\n",
      "0        Plasmodium falciparum (isolate NF54)    1205         6358   \n",
      "1         Plasmodium falciparum (isolate 3D7)    1205         6358   \n",
      "2    Plasmodium falciparum Tanzania (2000708)    1205         6348   \n",
      "3                Plasmodium falciparum UGT5.1    1205         6334   \n",
      "4         Plasmodium falciparum MaliPS096_E11    1215         6321   \n",
      "..                                        ...     ...          ...   \n",
      "245                       Pelagimonas varians     641          497   \n",
      "246          Candidatus Magnetomorum sp. HK-1     623          496   \n",
      "247                 Gracilimonas sediminicola     638          496   \n",
      "248               Clostridium thermobutyricum     620          495   \n",
      "249                 Rhodohalobacter sp. SW132     640          496   \n",
      "\n",
      "     Identities(%)  Positives(%)           E()  \n",
      "0            100.0         100.0  0.000000e+00  \n",
      "1            100.0         100.0  0.000000e+00  \n",
      "2             99.8         100.0  0.000000e+00  \n",
      "3             99.7          99.8  0.000000e+00  \n",
      "4             98.9          99.1  0.000000e+00  \n",
      "..             ...           ...           ...  \n",
      "245           26.7          44.8  5.000000e-49  \n",
      "246           33.8          52.4  5.000000e-49  \n",
      "247           27.4          44.8  6.400000e-49  \n",
      "248           28.2          45.0  6.400000e-49  \n",
      "249           26.5          45.2  6.600000e-49  \n",
      "\n",
      "[250 rows x 10 columns]\n"
     ]
    }
   ],
   "source": [
    "def get_blasted_target_chembl_ids(name):\n",
    "    uniprot_ac = pfname2uniprot[name]\n",
    "    df = pd.read_csv(\"../blast/blast_{0}.tsv\".format(uniprot_ac), sep=\"\\t\")\n",
    "    uniprot_acs = df[\"Accession\"].tolist()\n",
    "    chembl_ids = []\n",
    "    for p in [uniprot_ac] + uniprot_acs:\n",
    "        if p in uniprot2chembl:\n",
    "            chembl_ids += [uniprot2chembl[p]]\n",
    "    return chembl_ids\n",
    "\n",
    "get_blasted_target_chembl_ids(\"dxs\")\n",
    "    "
   ]
  },
  {
   "cell_type": "code",
   "execution_count": null,
   "metadata": {},
   "outputs": [],
   "source": []
  }
 ],
 "metadata": {
  "kernelspec": {
   "display_name": "base",
   "language": "python",
   "name": "python3"
  },
  "language_info": {
   "codemirror_mode": {
    "name": "ipython",
    "version": 3
   },
   "file_extension": ".py",
   "mimetype": "text/x-python",
   "name": "python",
   "nbconvert_exporter": "python",
   "pygments_lexer": "ipython3",
   "version": "3.9.12"
  }
 },
 "nbformat": 4,
 "nbformat_minor": 2
}
