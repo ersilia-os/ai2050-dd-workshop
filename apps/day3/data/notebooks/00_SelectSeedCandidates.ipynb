{
 "cells": [
  {
   "cell_type": "code",
   "execution_count": 21,
   "metadata": {},
   "outputs": [],
   "source": [
    "import pandas as pd\n",
    "from rdkit import Chem\n",
    "from rdkit.Chem import Descriptors\n",
    "from standardiser import standardise\n",
    "import csv\n",
    "\n",
    "df = pd.read_csv('../raw/Selin-All.csv')\n",
    "df = df[df[\"Active\"] == 1].sort_values(\"Avg-B-Score\", ascending=True).head(100)\n",
    "mols = [Chem.MolFromSmiles(smi) for smi in df[\"SMILES\"]]\n",
    "\n",
    "std_mols = []\n",
    "for mol in mols:\n",
    "    try:\n",
    "        mol = standardise.run(mol)\n",
    "        std_mols.append(mol)\n",
    "    except:\n",
    "        continue\n",
    "\n",
    "def is_interesting(mol):\n",
    "    mw = Chem.Descriptors.MolWt(mol)\n",
    "    if mw < 300:\n",
    "        return False\n",
    "    if mw > 800:\n",
    "        return False\n",
    "    return True\n",
    "\n",
    "std_mols = [mol for mol in std_mols if is_interesting(mol)]\n",
    "\n",
    "std_smiles = [Chem.MolToSmiles(mol) for mol in std_mols]\n",
    "with open('../atb_screening_data_top100.csv', 'w') as f:\n",
    "    writer = csv.writer(f)\n",
    "    writer.writerow(['inchikey', 'smiles'])\n",
    "    for smiles in std_smiles:\n",
    "        inchikey = Chem.MolToInchiKey(Chem.MolFromSmiles(smiles))\n",
    "        writer.writerow([inchikey, smiles])"
   ]
  },
  {
   "cell_type": "code",
   "execution_count": null,
   "metadata": {},
   "outputs": [],
   "source": []
  }
 ],
 "metadata": {
  "kernelspec": {
   "display_name": "aiworkshop",
   "language": "python",
   "name": "python3"
  },
  "language_info": {
   "codemirror_mode": {
    "name": "ipython",
    "version": 3
   },
   "file_extension": ".py",
   "mimetype": "text/x-python",
   "name": "python",
   "nbconvert_exporter": "python",
   "pygments_lexer": "ipython3",
   "version": "3.10.14"
  }
 },
 "nbformat": 4,
 "nbformat_minor": 2
}
